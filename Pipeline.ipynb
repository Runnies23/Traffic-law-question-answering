{
 "cells": [
  {
   "cell_type": "code",
   "execution_count": 1,
   "metadata": {},
   "outputs": [],
   "source": [
    "import pandas as pd \n",
    "import numpy as np  \n",
    "Question = \"สัญญาณไฟจราจรสีส้มต้องทำอย่างไร\" #input & คำถามที่จะทำการถาม \n",
    "corpus_df= pd.read_csv(\"data/corpus_df.csv\")\n",
    "corpus = corpus_df['corpus']"
   ]
  },
  {
   "cell_type": "code",
   "execution_count": 2,
   "metadata": {},
   "outputs": [
    {
     "data": {
      "application/vnd.jupyter.widget-view+json": {
       "model_id": "b0538a1c4c5e49ddaf1a7b7f1b49d02d",
       "version_major": 2,
       "version_minor": 0
      },
      "text/plain": [
       "Fetching 30 files:   0%|          | 0/30 [00:00<?, ?it/s]"
      ]
     },
     "metadata": {},
     "output_type": "display_data"
    }
   ],
   "source": [
    "from FlagEmbedding import BGEM3FlagModel\n",
    "model = BGEM3FlagModel('BAAI/bge-m3',use_fp16=True)"
   ]
  },
  {
   "cell_type": "markdown",
   "metadata": {},
   "source": [
    "### 1st retrieve"
   ]
  },
  {
   "cell_type": "code",
   "execution_count": 3,
   "metadata": {},
   "outputs": [],
   "source": [
    "import numpy as np\n",
    "from tqdm import tqdm\n",
    "\n",
    "ALL_final_ans_list_ALL = []\n",
    "ALL_final_ans_list_Sparse_Dense = []\n",
    "ALL_final_ans_list_sparse = []\n",
    "ALL_final_ans_list_score_colbert = []\n",
    "ALL_final_ans_list_Dense = []\n",
    " \n",
    "batch_size = 10 \n",
    "\n",
    "questions = Question\n",
    "sentence_pairs = [[questions, j] for j in corpus]\n",
    "\n",
    "listofscore = []\n",
    "compute_Score = range(0, len(sentence_pairs), batch_size)\n",
    "\n",
    "for i in compute_Score:\n",
    "    batch_pairs = sentence_pairs[i:i+batch_size]\n",
    "    allscore = model.compute_score(batch_pairs,\n",
    "                                    max_passage_length=512,\n",
    "                                    weights_for_different_modes=[0.4, 0.2, 0.4]) # sum: w[0]*dense_score + w[1]*sparse_score + w[2]*colbert_score\n",
    "    listofscore.append(allscore) \n",
    "\n",
    "score_ALL = []\n",
    "score_sparse_dense = []\n",
    "score_colbert = []\n",
    "score_dense = []\n",
    "score_sparse = []\n",
    "\n",
    "for score_dict in listofscore:\n",
    "    score_dense.extend(score_dict['dense'])\n",
    "    score_sparse_dense.extend(score_dict['sparse+dense'])\n",
    "    score_colbert.extend(score_dict['colbert'])\n",
    "    score_sparse.extend(score_dict['sparse'])\n",
    "    score_ALL.extend(score_dict['colbert+sparse+dense'])\n",
    "\n",
    "ALL_final_ans_list_ALL.append(score_ALL)\n",
    "ALL_final_ans_list_Sparse_Dense.append(score_sparse_dense)\n",
    "ALL_final_ans_list_sparse.append(score_sparse)\n",
    "ALL_final_ans_list_score_colbert.append(score_colbert)\n",
    "ALL_final_ans_list_Dense.append(score_dense)\n"
   ]
  },
  {
   "cell_type": "code",
   "execution_count": 4,
   "metadata": {},
   "outputs": [],
   "source": [
    "topkindex = 15\n",
    "topk15indices_ALL = np.argsort(np.array(ALL_final_ans_list_ALL), axis=1)[:, -topkindex:]"
   ]
  },
  {
   "cell_type": "code",
   "execution_count": 5,
   "metadata": {},
   "outputs": [],
   "source": [
    "for indices in topk15indices_ALL:\n",
    "    containptopk = []\n",
    "    for i, index in enumerate(indices):\n",
    "        if index < len(corpus_df):\n",
    "            containptopk.append(' '.join(map(str, corpus_df.iloc[index].tolist())))  # Convert list to string and join elements"
   ]
  },
  {
   "cell_type": "markdown",
   "metadata": {},
   "source": [
    "### Rerank"
   ]
  },
  {
   "cell_type": "code",
   "execution_count": 6,
   "metadata": {},
   "outputs": [
    {
     "name": "stdout",
     "output_type": "stream",
     "text": [
      "สัญญาณไฟจราจรสีส้มต้องทำอย่างไร\n",
      "มาตรา 29 - ห้ามมิให้\n",
      "มาตรา 25 - ผู้ขับขี่\n",
      "มาตรา 24 - ผู้ขับขี่\n",
      "มาตรา 15 - รถที่บรรท\n",
      "มาตรา 76 - เมื่อคนเด\n",
      "มาตรา 37 - การให้สัญ\n",
      "มาตรา 21 - ผู้ขับขี่\n",
      "มาตรา 50 -   ถ้ามีรถ\n",
      "มาตรา 73 - ในกรณีที่\n",
      "มาตรา 36 - ผู้ขับขี่\n",
      "มาตรา 105 - คนเดินเท\n",
      "มาตรา 23 - ผู้ขับขี่\n",
      "มาตรา 106 - คนเดินเท\n",
      "มาตรา 38 - การให้ไฟส\n",
      "มาตรา 22 - ผู้ขับขี่\n",
      "Highest: 0.1437877942733285 - 'มาตรา 22 - ผู้ขับขี่ต้องปฏิบัติตามสัญญาณจราจรหรือเครื่องหมายจราจรที่ปรากฏข้างหน้าในกรณีต่อไปนี้(1) สัญญาณจราจรไฟสีเหลืองอำพัน ให้ผู้ขับขี่เตรียมหยุดรถหลังเส้นให้รถหยุดเพื่อเตรียมปฏิบัติตามสัญญาณที่จะปรากฏต่อไปดังกล่าวใน (2) เว้นแต่ผู้ขับขี่ที่ได้เลยเส้นให้รถหยุดไปแล้วให้เลยไปได้(2) สัญญาณจราจรไฟสีแดงหรือเครื่องหมายจราจรสีแดงที่มีคำว่าหยุด ให้ผู้ขับขี่หยุดรถหลังเส้นให้รถหยุด(3) สัญญาณจราจรไฟสีเขียวหรือเครื่องหมายจราจรสีเขียวที่มีคำว่า ไป ให้ผู้ขับขี่ขับรถต่อไปได้ เว้นแต่จะมีเครื่องหมายจราจรกำหนดไว้เป็นอย่างอื่น(4)(1) สัญญาณจราจรไฟลูกศรสีเขียวชี้ให้เลี้ยวหรือชี้ให้ตรงไป หรือสัญญาณจราจรไฟสีแดงแสดงพร้อมกับสัญญาณจราจรไฟลูกศรสีเขียวชี้ให้เลี้ยวหรือชี้ให้ตรงไป ให้ผู้ขับขี่เลี้ยวรถหรือขับรถตรงไปได้ตามทิศทางที่ลูกศรชี้และต้องขับรถด้วยความระมัดระวัง และต้องให้สิทธิแก่คนเดินเท้าในทางข้ามหรือรถที่มาทางขวาก่อน(5) สัญญาณจราจรไฟกระพริบสีแดง ถ้าติดตั้งอยู่ที่ทางร่วมทางแยกใดเปิดทางด้านใดให้ผู้ขับขี่ที่มาทางด้านนั้นหยุดรถหลังเส้นให้รถหยุด เมื่อเห็นว่าปลอดภัยและไม่เป็นการกีดขวางการจราจรแล้ว จึงให้ขับรถต่อไปได้ด้วยความระมัดระวัง(6) สัญญาณจราจรไฟกระพริบสีเหลืองอำพัน ถ้าติดตั้งอยู่ ณ ที่ใดให้ผู้ขับขี่ลดความเร็วของรถลงและผ่านทาง-เดินรถนั้นไปด้วยความระมัดระวังผู้ขับขี่ซึ่งจะขับรถตรงไปต้องเข้าอยู่ในช่องเดินรถที่มีเครื่องหมายจราจรแสดงให้ตรงไป ส่วนผู้ขับขี่ซึ่งจะเลี้ยวรถต้องเข้าอยู่ในช่องเดินรถที่มีเครื่องหมายจราจรแสดงให้เลี้ยว การเข้าอยู่ในช่องเดินรถดังกล่าวจะต้องเข้าตั้งแต่เริ่มมีเครื่องหมายจราจรแสดงให้ปฏิบัติเช่นนั้น'\n",
      "['มาตรา 22 - ผู้ขับขี่ต้องปฏิบัติตามสัญญาณจราจรหรือเครื่องหมายจราจรที่ปรากฏข้างหน้าในกรณีต่อไปนี้(1) สัญญาณจราจรไฟสีเหลืองอำพัน ให้ผู้ขับขี่เตรียมหยุดรถหลังเส้นให้รถหยุดเพื่อเตรียมปฏิบัติตามสัญญาณที่จะปรากฏต่อไปดังกล่าวใน (2) เว้นแต่ผู้ขับขี่ที่ได้เลยเส้นให้รถหยุดไปแล้วให้เลยไปได้(2) สัญญาณจราจรไฟสีแดงหรือเครื่องหมายจราจรสีแดงที่มีคำว่าหยุด ให้ผู้ขับขี่หยุดรถหลังเส้นให้รถหยุด(3) สัญญาณจราจรไฟสีเขียวหรือเครื่องหมายจราจรสีเขียวที่มีคำว่า ไป ให้ผู้ขับขี่ขับรถต่อไปได้ เว้นแต่จะมีเครื่องหมายจราจรกำหนดไว้เป็นอย่างอื่น(4)(1) สัญญาณจราจรไฟลูกศรสีเขียวชี้ให้เลี้ยวหรือชี้ให้ตรงไป หรือสัญญาณจราจรไฟสีแดงแสดงพร้อมกับสัญญาณจราจรไฟลูกศรสีเขียวชี้ให้เลี้ยวหรือชี้ให้ตรงไป ให้ผู้ขับขี่เลี้ยวรถหรือขับรถตรงไปได้ตามทิศทางที่ลูกศรชี้และต้องขับรถด้วยความระมัดระวัง และต้องให้สิทธิแก่คนเดินเท้าในทางข้ามหรือรถที่มาทางขวาก่อน(5) สัญญาณจราจรไฟกระพริบสีแดง ถ้าติดตั้งอยู่ที่ทางร่วมทางแยกใดเปิดทางด้านใดให้ผู้ขับขี่ที่มาทางด้านนั้นหยุดรถหลังเส้นให้รถหยุด เมื่อเห็นว่าปลอดภัยและไม่เป็นการกีดขวางการจราจรแล้ว จึงให้ขับรถต่อไปได้ด้วยความระมัดระวัง(6) สัญญาณจราจรไฟกระพริบสีเหลืองอำพัน ถ้าติดตั้งอยู่ ณ ที่ใดให้ผู้ขับขี่ลดความเร็วของรถลงและผ่านทาง-เดินรถนั้นไปด้วยความระมัดระวังผู้ขับขี่ซึ่งจะขับรถตรงไปต้องเข้าอยู่ในช่องเดินรถที่มีเครื่องหมายจราจรแสดงให้ตรงไป ส่วนผู้ขับขี่ซึ่งจะเลี้ยวรถต้องเข้าอยู่ในช่องเดินรถที่มีเครื่องหมายจราจรแสดงให้เลี้ยว การเข้าอยู่ในช่องเดินรถดังกล่าวจะต้องเข้าตั้งแต่เริ่มมีเครื่องหมายจราจรแสดงให้ปฏิบัติเช่นนั้น']\n"
     ]
    }
   ],
   "source": [
    "from FlagEmbedding import FlagReranker\n",
    "rerankerbase = FlagReranker('BAAI/bge-reranker-v2-m3', use_fp16=True)\n",
    "\n",
    "Rerank_base_passage= []\n",
    "print(Question)\n",
    "Input_text_for_rerank = containptopk\n",
    "scores_base = []\n",
    "\n",
    "for passage in Input_text_for_rerank:\n",
    "    passage = str(passage)\n",
    "    score_base = rerankerbase.compute_score([Question, passage], normalize=True)\n",
    "    scores_base.append(score_base)\n",
    "    print(passage[:20])\n",
    "\n",
    "highest_scoring_index = scores_base.index(max(scores_base))\n",
    "\n",
    "print(f\"Highest: {max(scores_base)} - '{Input_text_for_rerank[highest_scoring_index]}'\")\n",
    "Rerank_base_passage.append(Input_text_for_rerank[highest_scoring_index])\n",
    "\n",
    "print(Rerank_base_passage)"
   ]
  },
  {
   "cell_type": "code",
   "execution_count": 7,
   "metadata": {},
   "outputs": [
    {
     "data": {
      "text/plain": [
       "['มาตรา 22 - ผู้ขับขี่ต้องปฏิบัติตามสัญญาณจราจรหรือเครื่องหมายจราจรที่ปรากฏข้างหน้าในกรณีต่อไปนี้(1) สัญญาณจราจรไฟสีเหลืองอำพัน ให้ผู้ขับขี่เตรียมหยุดรถหลังเส้นให้รถหยุดเพื่อเตรียมปฏิบัติตามสัญญาณที่จะปรากฏต่อไปดังกล่าวใน (2) เว้นแต่ผู้ขับขี่ที่ได้เลยเส้นให้รถหยุดไปแล้วให้เลยไปได้(2) สัญญาณจราจรไฟสีแดงหรือเครื่องหมายจราจรสีแดงที่มีคำว่าหยุด ให้ผู้ขับขี่หยุดรถหลังเส้นให้รถหยุด(3) สัญญาณจราจรไฟสีเขียวหรือเครื่องหมายจราจรสีเขียวที่มีคำว่า ไป ให้ผู้ขับขี่ขับรถต่อไปได้ เว้นแต่จะมีเครื่องหมายจราจรกำหนดไว้เป็นอย่างอื่น(4)(1) สัญญาณจราจรไฟลูกศรสีเขียวชี้ให้เลี้ยวหรือชี้ให้ตรงไป หรือสัญญาณจราจรไฟสีแดงแสดงพร้อมกับสัญญาณจราจรไฟลูกศรสีเขียวชี้ให้เลี้ยวหรือชี้ให้ตรงไป ให้ผู้ขับขี่เลี้ยวรถหรือขับรถตรงไปได้ตามทิศทางที่ลูกศรชี้และต้องขับรถด้วยความระมัดระวัง และต้องให้สิทธิแก่คนเดินเท้าในทางข้ามหรือรถที่มาทางขวาก่อน(5) สัญญาณจราจรไฟกระพริบสีแดง ถ้าติดตั้งอยู่ที่ทางร่วมทางแยกใดเปิดทางด้านใดให้ผู้ขับขี่ที่มาทางด้านนั้นหยุดรถหลังเส้นให้รถหยุด เมื่อเห็นว่าปลอดภัยและไม่เป็นการกีดขวางการจราจรแล้ว จึงให้ขับรถต่อไปได้ด้วยความระมัดระวัง(6) สัญญาณจราจรไฟกระพริบสีเหลืองอำพัน ถ้าติดตั้งอยู่ ณ ที่ใดให้ผู้ขับขี่ลดความเร็วของรถลงและผ่านทาง-เดินรถนั้นไปด้วยความระมัดระวังผู้ขับขี่ซึ่งจะขับรถตรงไปต้องเข้าอยู่ในช่องเดินรถที่มีเครื่องหมายจราจรแสดงให้ตรงไป ส่วนผู้ขับขี่ซึ่งจะเลี้ยวรถต้องเข้าอยู่ในช่องเดินรถที่มีเครื่องหมายจราจรแสดงให้เลี้ยว การเข้าอยู่ในช่องเดินรถดังกล่าวจะต้องเข้าตั้งแต่เริ่มมีเครื่องหมายจราจรแสดงให้ปฏิบัติเช่นนั้น']"
      ]
     },
     "execution_count": 7,
     "metadata": {},
     "output_type": "execute_result"
    }
   ],
   "source": [
    "Rerank_base_passage"
   ]
  },
  {
   "cell_type": "code",
   "execution_count": 18,
   "metadata": {},
   "outputs": [
    {
     "name": "stdout",
     "output_type": "stream",
     "text": [
      "Collecting langchain\n",
      "  Downloading langchain-0.2.3-py3-none-any.whl.metadata (6.9 kB)\n",
      "Requirement already satisfied: PyYAML>=5.3 in c:\\users\\pc\\anaconda3\\envs\\gpu_02\\lib\\site-packages (from langchain) (6.0.1)\n",
      "Collecting SQLAlchemy<3,>=1.4 (from langchain)\n",
      "  Downloading SQLAlchemy-2.0.30-cp312-cp312-win_amd64.whl.metadata (9.8 kB)\n",
      "Requirement already satisfied: aiohttp<4.0.0,>=3.8.3 in c:\\users\\pc\\anaconda3\\envs\\gpu_02\\lib\\site-packages (from langchain) (3.9.5)\n",
      "Collecting langchain-core<0.3.0,>=0.2.0 (from langchain)\n",
      "  Downloading langchain_core-0.2.5-py3-none-any.whl.metadata (5.8 kB)\n",
      "Collecting langchain-text-splitters<0.3.0,>=0.2.0 (from langchain)\n",
      "  Downloading langchain_text_splitters-0.2.1-py3-none-any.whl.metadata (2.2 kB)\n",
      "Collecting langsmith<0.2.0,>=0.1.17 (from langchain)\n",
      "  Downloading langsmith-0.1.75-py3-none-any.whl.metadata (13 kB)\n",
      "Requirement already satisfied: numpy<2,>=1 in c:\\users\\pc\\anaconda3\\envs\\gpu_02\\lib\\site-packages (from langchain) (1.26.4)\n",
      "Requirement already satisfied: pydantic<3,>=1 in c:\\users\\pc\\anaconda3\\envs\\gpu_02\\lib\\site-packages (from langchain) (2.7.3)\n",
      "Requirement already satisfied: requests<3,>=2 in c:\\users\\pc\\anaconda3\\envs\\gpu_02\\lib\\site-packages (from langchain) (2.32.2)\n",
      "Collecting tenacity<9.0.0,>=8.1.0 (from langchain)\n",
      "  Downloading tenacity-8.3.0-py3-none-any.whl.metadata (1.2 kB)\n",
      "Requirement already satisfied: aiosignal>=1.1.2 in c:\\users\\pc\\anaconda3\\envs\\gpu_02\\lib\\site-packages (from aiohttp<4.0.0,>=3.8.3->langchain) (1.3.1)\n",
      "Requirement already satisfied: attrs>=17.3.0 in c:\\users\\pc\\anaconda3\\envs\\gpu_02\\lib\\site-packages (from aiohttp<4.0.0,>=3.8.3->langchain) (23.1.0)\n",
      "Requirement already satisfied: frozenlist>=1.1.1 in c:\\users\\pc\\anaconda3\\envs\\gpu_02\\lib\\site-packages (from aiohttp<4.0.0,>=3.8.3->langchain) (1.4.1)\n",
      "Requirement already satisfied: multidict<7.0,>=4.5 in c:\\users\\pc\\anaconda3\\envs\\gpu_02\\lib\\site-packages (from aiohttp<4.0.0,>=3.8.3->langchain) (6.0.5)\n",
      "Requirement already satisfied: yarl<2.0,>=1.0 in c:\\users\\pc\\anaconda3\\envs\\gpu_02\\lib\\site-packages (from aiohttp<4.0.0,>=3.8.3->langchain) (1.9.4)\n",
      "Collecting jsonpatch<2.0,>=1.33 (from langchain-core<0.3.0,>=0.2.0->langchain)\n",
      "  Using cached jsonpatch-1.33-py2.py3-none-any.whl.metadata (3.0 kB)\n",
      "Collecting packaging<24.0,>=23.2 (from langchain-core<0.3.0,>=0.2.0->langchain)\n",
      "  Using cached packaging-23.2-py3-none-any.whl.metadata (3.2 kB)\n",
      "Collecting orjson<4.0.0,>=3.9.14 (from langsmith<0.2.0,>=0.1.17->langchain)\n",
      "  Downloading orjson-3.10.3-cp312-none-win_amd64.whl.metadata (50 kB)\n",
      "     ---------------------------------------- 0.0/50.9 kB ? eta -:--:--\n",
      "     ---------------------------------------- 50.9/50.9 kB 1.3 MB/s eta 0:00:00\n",
      "Requirement already satisfied: annotated-types>=0.4.0 in c:\\users\\pc\\anaconda3\\envs\\gpu_02\\lib\\site-packages (from pydantic<3,>=1->langchain) (0.7.0)\n",
      "Requirement already satisfied: pydantic-core==2.18.4 in c:\\users\\pc\\anaconda3\\envs\\gpu_02\\lib\\site-packages (from pydantic<3,>=1->langchain) (2.18.4)\n",
      "Requirement already satisfied: typing-extensions>=4.6.1 in c:\\users\\pc\\anaconda3\\envs\\gpu_02\\lib\\site-packages (from pydantic<3,>=1->langchain) (4.11.0)\n",
      "Requirement already satisfied: charset-normalizer<4,>=2 in c:\\users\\pc\\anaconda3\\envs\\gpu_02\\lib\\site-packages (from requests<3,>=2->langchain) (2.0.4)\n",
      "Requirement already satisfied: idna<4,>=2.5 in c:\\users\\pc\\anaconda3\\envs\\gpu_02\\lib\\site-packages (from requests<3,>=2->langchain) (3.7)\n",
      "Requirement already satisfied: urllib3<3,>=1.21.1 in c:\\users\\pc\\anaconda3\\envs\\gpu_02\\lib\\site-packages (from requests<3,>=2->langchain) (2.2.1)\n",
      "Requirement already satisfied: certifi>=2017.4.17 in c:\\users\\pc\\anaconda3\\envs\\gpu_02\\lib\\site-packages (from requests<3,>=2->langchain) (2024.6.2)\n",
      "Collecting greenlet!=0.4.17 (from SQLAlchemy<3,>=1.4->langchain)\n",
      "  Downloading greenlet-3.0.3-cp312-cp312-win_amd64.whl.metadata (3.9 kB)\n",
      "Collecting jsonpointer>=1.9 (from jsonpatch<2.0,>=1.33->langchain-core<0.3.0,>=0.2.0->langchain)\n",
      "  Using cached jsonpointer-2.4-py2.py3-none-any.whl.metadata (2.5 kB)\n",
      "Downloading langchain-0.2.3-py3-none-any.whl (974 kB)\n",
      "   ---------------------------------------- 0.0/974.0 kB ? eta -:--:--\n",
      "   ------------------- ------------------- 481.3/974.0 kB 15.2 MB/s eta 0:00:01\n",
      "   --------------------------------------- 974.0/974.0 kB 15.5 MB/s eta 0:00:00\n",
      "Downloading langchain_core-0.2.5-py3-none-any.whl (314 kB)\n",
      "   ---------------------------------------- 0.0/314.7 kB ? eta -:--:--\n",
      "   --------------------------------------- 314.7/314.7 kB 19.0 MB/s eta 0:00:00\n",
      "Downloading langchain_text_splitters-0.2.1-py3-none-any.whl (23 kB)\n",
      "Downloading langsmith-0.1.75-py3-none-any.whl (124 kB)\n",
      "   ---------------------------------------- 0.0/124.9 kB ? eta -:--:--\n",
      "   ---------------------------------------- 124.9/124.9 kB 7.2 MB/s eta 0:00:00\n",
      "Downloading SQLAlchemy-2.0.30-cp312-cp312-win_amd64.whl (2.1 MB)\n",
      "   ---------------------------------------- 0.0/2.1 MB ? eta -:--:--\n",
      "   ----------------- ---------------------- 0.9/2.1 MB 28.8 MB/s eta 0:00:01\n",
      "   ----------------------------------- ---- 1.8/2.1 MB 23.4 MB/s eta 0:00:01\n",
      "   ---------------------------------------- 2.1/2.1 MB 22.0 MB/s eta 0:00:00\n",
      "Downloading tenacity-8.3.0-py3-none-any.whl (25 kB)\n",
      "Downloading greenlet-3.0.3-cp312-cp312-win_amd64.whl (293 kB)\n",
      "   ---------------------------------------- 0.0/293.6 kB ? eta -:--:--\n",
      "   --------------------------------------- 293.6/293.6 kB 17.7 MB/s eta 0:00:00\n",
      "Using cached jsonpatch-1.33-py2.py3-none-any.whl (12 kB)\n",
      "Downloading orjson-3.10.3-cp312-none-win_amd64.whl (138 kB)\n",
      "   ---------------------------------------- 0.0/138.8 kB ? eta -:--:--\n",
      "   ---------------------------------------- 138.8/138.8 kB ? eta 0:00:00\n",
      "Using cached packaging-23.2-py3-none-any.whl (53 kB)\n",
      "Using cached jsonpointer-2.4-py2.py3-none-any.whl (7.8 kB)\n",
      "Installing collected packages: tenacity, packaging, orjson, jsonpointer, greenlet, SQLAlchemy, jsonpatch, langsmith, langchain-core, langchain-text-splitters, langchain\n",
      "  Attempting uninstall: packaging\n",
      "    Found existing installation: packaging 24.0\n",
      "    Uninstalling packaging-24.0:\n",
      "      Successfully uninstalled packaging-24.0\n",
      "Successfully installed SQLAlchemy-2.0.30 greenlet-3.0.3 jsonpatch-1.33 jsonpointer-2.4 langchain-0.2.3 langchain-core-0.2.5 langchain-text-splitters-0.2.1 langsmith-0.1.75 orjson-3.10.3 packaging-23.2 tenacity-8.3.0\n"
     ]
    }
   ],
   "source": [
    "!pip install langchain "
   ]
  },
  {
   "cell_type": "code",
   "execution_count": 8,
   "metadata": {},
   "outputs": [],
   "source": [
    "import getpass\n",
    "import os\n",
    "from langchain.prompts.prompt import PromptTemplate\n",
    "from langchain.chains import ConversationChain\n",
    "from langchain.chains import LLMChain\n",
    "\n",
    "if \"GOOGLE_API_KEY\" not in os.environ:\n",
    "    os.environ[\"GOOGLE_API_KEY\"] = getpass.getpass(\"Provide your Google API Key\")"
   ]
  },
  {
   "cell_type": "code",
   "execution_count": 21,
   "metadata": {},
   "outputs": [
    {
     "name": "stdout",
     "output_type": "stream",
     "text": [
      "Note: you may need to restart the kernel to use updated packages.\n"
     ]
    }
   ],
   "source": [
    "pip install --upgrade --quiet  langchain-google-genai pillow"
   ]
  },
  {
   "cell_type": "code",
   "execution_count": 9,
   "metadata": {},
   "outputs": [],
   "source": [
    "from langchain_google_genai import ChatGoogleGenerativeAI\n",
    "llm = ChatGoogleGenerativeAI(model=\"gemini-pro\")"
   ]
  },
  {
   "cell_type": "code",
   "execution_count": 10,
   "metadata": {},
   "outputs": [
    {
     "name": "stderr",
     "output_type": "stream",
     "text": [
      "c:\\Users\\PC\\anaconda3\\envs\\gpu_02\\Lib\\site-packages\\langchain_core\\_api\\deprecation.py:119: LangChainDeprecationWarning: The class `LLMChain` was deprecated in LangChain 0.1.17 and will be removed in 0.3.0. Use RunnableSequence, e.g., `prompt | llm` instead.\n",
      "  warn_deprecated(\n"
     ]
    }
   ],
   "source": [
    "template = \"\"\"\n",
    "คุณเป็นผู้เชี่ยวชาญด้านกฎหมายจราจร มีหน้าที่ในการนำข้อความทางกฎหมายเกี่ยวกับการละเมิดกฎจราจรเเละข้อปฎิบัติต่างๆมาตอบคำถามว่าคำถามที่ถามมานั้นผิดหรือไม่หรือจะต้องทำอย่างไรเเละอธิบายเพิ่มเติม ให้รายละเอียดและคำอธิบายเพิ่มเติมเพื่อให้ผู้ที่ไม่ใช่ผู้เชี่ยวชาญด้านกฎหมายเข้าใจได้ง่ายขึ้น\n",
    "\n",
    "นี้คือคำถาม : {question}\n",
    "ข้อความทางกฎหมาย: {section}\n",
    "\n",
    "คำอธิบายโดยละเอียด:\n",
    "\"\"\"\n",
    "\n",
    "prompt = PromptTemplate(\n",
    "    input_variables=[\"section\",\"question\"],\n",
    "    template=template\n",
    ")\n",
    "llm_chain = LLMChain(prompt=prompt, llm=llm)\n"
   ]
  },
  {
   "cell_type": "code",
   "execution_count": 11,
   "metadata": {},
   "outputs": [
    {
     "name": "stderr",
     "output_type": "stream",
     "text": [
      "c:\\Users\\PC\\anaconda3\\envs\\gpu_02\\Lib\\site-packages\\langchain_core\\_api\\deprecation.py:119: LangChainDeprecationWarning: The method `Chain.run` was deprecated in langchain 0.1.0 and will be removed in 0.3.0. Use invoke instead.\n",
      "  warn_deprecated(\n"
     ]
    },
    {
     "name": "stdout",
     "output_type": "stream",
     "text": [
      "**คำถาม:** สัญญาณไฟจราจรสีส้มต้องทำอย่างไร\n",
      "\n",
      "**คำตอบ:**\n",
      "\n",
      "ผู้ขับขี่ต้องเตรียมหยุดรถหลังเส้นให้รถหยุดเพื่อเตรียมปฏิบัติตามสัญญาณที่จะปรากฏต่อไป\n",
      "\n",
      "**ข้อความทางกฎหมายที่เกี่ยวข้อง:**\n",
      "\n",
      "มาตรา 22 (1) แห่งพระราชบัญญัติจราจรทางบก พ.ศ. 2522\n",
      "\n",
      "**คำอธิบายเพิ่มเติม:**\n",
      "\n",
      "เมื่อเห็นสัญญาณไฟจราจรสีส้ม ผู้ขับขี่ควรลดความเร็วและเตรียมหยุดรถหลังเส้นหยุดรถ โดยปกติแล้วสัญญาณไฟจราจรสีส้มจะปรากฏก่อนสัญญาณไฟจราจรสีแดง ดังนั้นจึงเป็นการแจ้งเตือนให้ผู้ขับขี่ชะลอรถและเตรียมตัวหยุดรถเมื่อสัญญาณไฟจราจรเปลี่ยนเป็นสีแดง\n",
      "\n",
      "อย่างไรก็ตาม หากผู้ขับขี่ได้เลยเส้นหยุดรถไปแล้วก่อนที่สัญญาณไฟจราจรจะเปลี่ยนเป็นสีแดง ผู้ขับขี่สามารถขับรถต่อไปได้\n",
      "\n",
      "นอกจากนี้ ผู้ขับขี่ควรระมัดระวังขณะขับผ่านสัญญาณไฟจราจรสีส้ม โดยเฉพาะอย่างยิ่งเมื่อมีคนเดินเท้าหรือรถคันอื่นมาทางขวา\n"
     ]
    }
   ],
   "source": [
    "section = Rerank_base_passage\n",
    "question = Question\n",
    "inputs = {\"section\": section, \"question\": question}\n",
    "response = llm_chain.run(inputs)\n",
    "print(response)"
   ]
  }
 ],
 "metadata": {
  "kernelspec": {
   "display_name": "base",
   "language": "python",
   "name": "python3"
  },
  "language_info": {
   "codemirror_mode": {
    "name": "ipython",
    "version": 3
   },
   "file_extension": ".py",
   "mimetype": "text/x-python",
   "name": "python",
   "nbconvert_exporter": "python",
   "pygments_lexer": "ipython3",
   "version": "3.12.3"
  }
 },
 "nbformat": 4,
 "nbformat_minor": 2
}
